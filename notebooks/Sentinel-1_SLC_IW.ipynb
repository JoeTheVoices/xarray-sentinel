{
 "cells": [
  {
   "cell_type": "code",
   "execution_count": null,
   "id": "62bc62b4",
   "metadata": {},
   "outputs": [],
   "source": [
    "%load_ext autoreload\n",
    "%autoreload 2\n",
    "\n",
    "%matplotlib inline\n",
    "%config InlineBackend.figure_format = 'retina'\n",
    "\n",
    "import matplotlib.pyplot as plt\n",
    "plt.rcParams['figure.figsize'] = (12, 8)\n",
    "plt.rcParams['font.size'] = 12"
   ]
  },
  {
   "cell_type": "code",
   "execution_count": null,
   "id": "1e5120fa",
   "metadata": {},
   "outputs": [],
   "source": [
    "import xarray as xr"
   ]
  },
  {
   "cell_type": "code",
   "execution_count": null,
   "id": "7776d0c7",
   "metadata": {},
   "outputs": [],
   "source": [
    "# uncomment download the data\n",
    "#! DHUS_USER=<user> DHUS_PASSWORD=<password> ./download_data.sh"
   ]
  },
  {
   "cell_type": "code",
   "execution_count": null,
   "id": "3b066268",
   "metadata": {},
   "outputs": [],
   "source": [
    "slc_iw_path = \"data/S1B_IW_SLC__1SDV_20211223T051121_20211223T051148_030148_039993_BA4B.SAFE\"\n",
    "\n",
    "!ls -d {slc_iw_path}"
   ]
  },
  {
   "cell_type": "code",
   "execution_count": null,
   "id": "f42e4c16",
   "metadata": {},
   "outputs": [],
   "source": [
    "xr.open_dataset(slc_iw_path, engine=\"sentinel-1\")"
   ]
  },
  {
   "cell_type": "code",
   "execution_count": null,
   "id": "d6d9aeae",
   "metadata": {},
   "outputs": [],
   "source": [
    "xr.open_dataset(slc_iw_path, engine=\"sentinel-1\", group=\"IW3\")"
   ]
  },
  {
   "cell_type": "code",
   "execution_count": null,
   "id": "d5774952",
   "metadata": {},
   "outputs": [],
   "source": [
    "xr.open_dataset(slc_iw_path, engine=\"sentinel-1\", group=\"IW3/VV\")"
   ]
  },
  {
   "cell_type": "code",
   "execution_count": null,
   "id": "2c39574d",
   "metadata": {},
   "outputs": [],
   "source": [
    "slc_iw_vv_4 = xr.open_dataset(slc_iw_path, engine=\"sentinel-1\", group=\"IW3/VV/4\")\n",
    "slc_iw_vv_4"
   ]
  },
  {
   "cell_type": "code",
   "execution_count": null,
   "id": "afae99bf",
   "metadata": {
    "scrolled": false
   },
   "outputs": [],
   "source": [
    "_ = abs(slc_iw_vv_4.measurement[:, 12000:15000]).plot(y=\"azimuth_time\", vmax=150)"
   ]
  },
  {
   "cell_type": "code",
   "execution_count": null,
   "id": "3d231b4a",
   "metadata": {},
   "outputs": [],
   "source": [
    "slc_iw3_vv_gcp = xr.open_dataset(slc_iw_path, engine=\"sentinel-1\", group=\"IW3/VV/gcp\")\n",
    "slc_iw3_vv_gcp"
   ]
  },
  {
   "cell_type": "code",
   "execution_count": null,
   "id": "b500c2c3",
   "metadata": {},
   "outputs": [],
   "source": [
    "_ = slc_iw3_vv_gcp[\"height\"].plot(y=\"azimuth_time\")"
   ]
  },
  {
   "cell_type": "code",
   "execution_count": null,
   "id": "ce6541ea",
   "metadata": {},
   "outputs": [],
   "source": [
    "_ = slc_iw3_vv_gcp.plot.scatter(x=\"longitude\", y=\"latitude\", hue=\"height\")"
   ]
  },
  {
   "cell_type": "code",
   "execution_count": null,
   "id": "f27e0e78",
   "metadata": {},
   "outputs": [],
   "source": [
    "slc_iw3_vv_orbit = xr.open_dataset(slc_iw_path, engine=\"sentinel-1\", group=\"IW3/VV/orbit\")\n",
    "slc_iw3_vv_orbit"
   ]
  },
  {
   "cell_type": "code",
   "execution_count": null,
   "id": "38904b43",
   "metadata": {},
   "outputs": [],
   "source": [
    "slc_iw3_vv_orbit.plot.scatter(y=\"azimuth_time\", x=\"position\", hue=\"velocity\")"
   ]
  },
  {
   "cell_type": "code",
   "execution_count": null,
   "id": "97430f6a",
   "metadata": {},
   "outputs": [],
   "source": [
    "slc_iw3_vv_calibration = xr.open_dataset(slc_iw_path, engine=\"sentinel-1\", group=\"IW3/VV/calibration\")\n",
    "slc_iw3_vv_calibration"
   ]
  },
  {
   "cell_type": "code",
   "execution_count": null,
   "id": "79e6022b",
   "metadata": {},
   "outputs": [],
   "source": [
    "# betaNought and dn calibration are typically constat\n",
    "print(slc_iw3_vv_calibration[\"betaNought\"].mean().item(), \"+-\", slc_iw3_vv_calibration[\"betaNought\"].std().item())\n",
    "print(slc_iw3_vv_calibration[\"dn\"].mean().item(), \"+-\", slc_iw3_vv_calibration[\"dn\"].std().item())"
   ]
  },
  {
   "cell_type": "code",
   "execution_count": null,
   "id": "1337f73a",
   "metadata": {},
   "outputs": [],
   "source": [
    "_ = slc_iw3_vv_calibration[\"sigmaNought\"].plot(x=\"pixel\")"
   ]
  },
  {
   "cell_type": "code",
   "execution_count": null,
   "id": "2e056095",
   "metadata": {},
   "outputs": [],
   "source": [
    "_ = slc_iw3_vv_calibration[\"gamma\"].plot(x=\"pixel\")"
   ]
  },
  {
   "cell_type": "code",
   "execution_count": null,
   "id": "2aae5912",
   "metadata": {},
   "outputs": [],
   "source": [
    "slc_iw3_vv_noise_range = xr.open_dataset(slc_iw_path, engine=\"sentinel-1\", group=\"IW3/VV/noise_range\")\n",
    "slc_iw3_vv_noise_range"
   ]
  },
  {
   "cell_type": "code",
   "execution_count": null,
   "id": "c357a9de",
   "metadata": {},
   "outputs": [],
   "source": [
    "_ = slc_iw3_vv_noise_range[\"noiseRangeLut\"].plot(x=\"pixel\")"
   ]
  },
  {
   "cell_type": "code",
   "execution_count": null,
   "id": "5ebe2a71",
   "metadata": {},
   "outputs": [],
   "source": [
    "slc_iw3_vv_noise_azimuth = xr.open_dataset(slc_iw_path, engine=\"sentinel-1\", group=\"IW3/VV/noise_azimuth\")\n",
    "slc_iw3_vv_noise_azimuth"
   ]
  },
  {
   "cell_type": "code",
   "execution_count": null,
   "id": "75c40bce",
   "metadata": {},
   "outputs": [],
   "source": [
    "_ = slc_iw3_vv_noise_azimuth.plot.scatter(x=\"line\", y=\"noiseAzimuthLut\")"
   ]
  },
  {
   "cell_type": "code",
   "execution_count": null,
   "id": "77578300",
   "metadata": {},
   "outputs": [],
   "source": [
    "xr.open_dataset(slc_iw_path, engine=\"sentinel-1\", group=\"IW3/VV/attitude\")"
   ]
  },
  {
   "cell_type": "code",
   "execution_count": null,
   "id": "f98e156a",
   "metadata": {},
   "outputs": [],
   "source": [
    "xr.open_dataset(slc_iw_path, engine=\"sentinel-1\", group=\"IW3/VV/dc_estimate\")"
   ]
  },
  {
   "cell_type": "code",
   "execution_count": null,
   "id": "910c5ab9",
   "metadata": {},
   "outputs": [],
   "source": [
    "xr.open_dataset(slc_iw_path, engine=\"sentinel-1\", group=\"IW3/VV/azimuth_fm_rate\")"
   ]
  },
  {
   "cell_type": "code",
   "execution_count": null,
   "id": "204a429d",
   "metadata": {},
   "outputs": [],
   "source": []
  }
 ],
 "metadata": {
  "kernelspec": {
   "display_name": "Python 3 (ipykernel)",
   "language": "python",
   "name": "python3"
  },
  "language_info": {
   "codemirror_mode": {
    "name": "ipython",
    "version": 3
   },
   "file_extension": ".py",
   "mimetype": "text/x-python",
   "name": "python",
   "nbconvert_exporter": "python",
   "pygments_lexer": "ipython3",
   "version": "3.9.9"
  }
 },
 "nbformat": 4,
 "nbformat_minor": 5
}
