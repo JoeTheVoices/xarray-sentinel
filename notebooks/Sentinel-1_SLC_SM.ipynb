{
 "cells": [
  {
   "cell_type": "code",
   "execution_count": null,
   "id": "d51418a2",
   "metadata": {},
   "outputs": [],
   "source": [
    "%load_ext autoreload\n",
    "%autoreload 2\n",
    "\n",
    "%matplotlib inline\n",
    "%config InlineBackend.figure_format = 'retina'\n",
    "\n",
    "import matplotlib.pyplot as plt\n",
    "plt.rcParams['figure.figsize'] = (12, 8)\n",
    "plt.rcParams['font.size'] = 12"
   ]
  },
  {
   "cell_type": "code",
   "execution_count": null,
   "id": "93c08cc8",
   "metadata": {},
   "outputs": [],
   "source": [
    "import xarray as xr"
   ]
  },
  {
   "cell_type": "code",
   "execution_count": null,
   "id": "d5aced0d",
   "metadata": {},
   "outputs": [],
   "source": [
    "# uncomment download the data\n",
    "#! DHUS_USER=<user> DHUS_PASSWORD=<password> ./download_data.sh"
   ]
  },
  {
   "cell_type": "code",
   "execution_count": null,
   "id": "95e99132",
   "metadata": {},
   "outputs": [],
   "source": [
    "slc_s6_path = \"data/S1B_S6_SLC__1SDV_20211216T115438_20211216T115501_030050_03968A_4DCB.SAFE\"\n",
    "\n",
    "!ls -d {slc_s6_path}"
   ]
  },
  {
   "cell_type": "code",
   "execution_count": null,
   "id": "72a22f61",
   "metadata": {},
   "outputs": [],
   "source": [
    "xr.open_dataset(slc_s6_path, engine=\"sentinel-1\")"
   ]
  },
  {
   "cell_type": "code",
   "execution_count": null,
   "id": "94c91b56",
   "metadata": {},
   "outputs": [],
   "source": [
    "xr.open_dataset(slc_s6_path, engine=\"sentinel-1\", group=\"S6\")"
   ]
  },
  {
   "cell_type": "code",
   "execution_count": null,
   "id": "f51fc724",
   "metadata": {},
   "outputs": [],
   "source": [
    "slc_s6_vv = xr.open_dataset(slc_s6_path, engine=\"sentinel-1\", group=\"S6/VV\", chunks=2048)\n",
    "slc_s6_vv"
   ]
  },
  {
   "cell_type": "code",
   "execution_count": null,
   "id": "6577ecf5",
   "metadata": {},
   "outputs": [],
   "source": [
    "_ = abs(slc_s6_vv.measurement[4096:6144, :2048]).plot(y=\"azimuth_time\", vmax=75)"
   ]
  },
  {
   "cell_type": "code",
   "execution_count": null,
   "id": "2ad93934",
   "metadata": {},
   "outputs": [],
   "source": [
    "slc_s6_vv_gcp = xr.open_dataset(slc_s6_path, engine=\"sentinel-1\", group=\"S6/VV/gcp\")\n",
    "slc_s6_vv_gcp"
   ]
  },
  {
   "cell_type": "code",
   "execution_count": null,
   "id": "d1452764",
   "metadata": {},
   "outputs": [],
   "source": [
    "_ = slc_s6_vv_gcp[\"height\"].plot(y=\"azimuth_time\")"
   ]
  },
  {
   "cell_type": "code",
   "execution_count": null,
   "id": "521306b0",
   "metadata": {},
   "outputs": [],
   "source": [
    "_ = slc_s6_vv_gcp.plot.scatter(x=\"longitude\", y=\"latitude\", hue=\"height\")"
   ]
  },
  {
   "cell_type": "code",
   "execution_count": null,
   "id": "bb4d8a88",
   "metadata": {},
   "outputs": [],
   "source": [
    "slc_s6_vv_orbit = xr.open_dataset(slc_s6_path, engine=\"sentinel-1\", group=\"S6/VV/orbit\")\n",
    "slc_s6_vv_orbit"
   ]
  },
  {
   "cell_type": "code",
   "execution_count": null,
   "id": "984be51d",
   "metadata": {},
   "outputs": [],
   "source": [
    "slc_s6_vv_orbit.plot.scatter(y=\"azimuth_time\", x=\"position\", hue=\"velocity\")"
   ]
  },
  {
   "cell_type": "code",
   "execution_count": null,
   "id": "96751b97",
   "metadata": {},
   "outputs": [],
   "source": [
    "slc_s6_vv_calibration = xr.open_dataset(slc_s6_path, engine=\"sentinel-1\", group=\"S6/VV/calibration\")\n",
    "slc_s6_vv_calibration"
   ]
  },
  {
   "cell_type": "code",
   "execution_count": null,
   "id": "2f88d6d8",
   "metadata": {},
   "outputs": [],
   "source": [
    "# betaNought and dn calibration are typically constat\n",
    "print(slc_s6_vv_calibration[\"betaNought\"].mean().item(), \"+-\", slc_s6_vv_calibration[\"betaNought\"].std().item())\n",
    "print(slc_s6_vv_calibration[\"dn\"].mean().item(), \"+-\", slc_s6_vv_calibration[\"dn\"].std().item())"
   ]
  },
  {
   "cell_type": "code",
   "execution_count": null,
   "id": "88219066",
   "metadata": {},
   "outputs": [],
   "source": [
    "_ = slc_s6_vv_calibration[\"sigmaNought\"].plot(x=\"pixel\")"
   ]
  },
  {
   "cell_type": "code",
   "execution_count": null,
   "id": "8d376d93",
   "metadata": {},
   "outputs": [],
   "source": [
    "slc_s6_vv_calibration[\"gamma\"].plot(x=\"pixel\")"
   ]
  },
  {
   "cell_type": "code",
   "execution_count": null,
   "id": "1bfe9ff4",
   "metadata": {},
   "outputs": [],
   "source": [
    "slc_s6_vv_noise_range = xr.open_dataset(slc_s6_path, engine=\"sentinel-1\", group=\"S6/VV/noise_range\")\n",
    "slc_s6_vv_noise_range"
   ]
  },
  {
   "cell_type": "code",
   "execution_count": null,
   "id": "eed7b391",
   "metadata": {},
   "outputs": [],
   "source": [
    "_ = slc_s6_vv_noise_range[\"noiseRangeLut\"].plot(x=\"pixel\")"
   ]
  },
  {
   "cell_type": "code",
   "execution_count": null,
   "id": "72410985",
   "metadata": {},
   "outputs": [],
   "source": [
    "xr.open_dataset(slc_s6_path, engine=\"sentinel-1\", group=\"S6/VV/noise_azimuth\")"
   ]
  },
  {
   "cell_type": "code",
   "execution_count": null,
   "id": "48587b4c",
   "metadata": {},
   "outputs": [],
   "source": [
    "xr.open_dataset(slc_s6_path, engine=\"sentinel-1\", group=\"S6/VV/attitude\")"
   ]
  },
  {
   "cell_type": "code",
   "execution_count": null,
   "id": "8184d443",
   "metadata": {},
   "outputs": [],
   "source": [
    "xr.open_dataset(slc_s6_path, engine=\"sentinel-1\", group=\"S6/VV/dc_estimate\")"
   ]
  },
  {
   "cell_type": "code",
   "execution_count": null,
   "id": "13986724",
   "metadata": {},
   "outputs": [],
   "source": [
    "xr.open_dataset(slc_s6_path, engine=\"sentinel-1\", group=\"S6/VV/azimuth_fm_rate\")"
   ]
  },
  {
   "cell_type": "code",
   "execution_count": null,
   "id": "45a23ca0",
   "metadata": {},
   "outputs": [],
   "source": []
  }
 ],
 "metadata": {
  "kernelspec": {
   "display_name": "Python 3 (ipykernel)",
   "language": "python",
   "name": "python3"
  },
  "language_info": {
   "codemirror_mode": {
    "name": "ipython",
    "version": 3
   },
   "file_extension": ".py",
   "mimetype": "text/x-python",
   "name": "python",
   "nbconvert_exporter": "python",
   "pygments_lexer": "ipython3",
   "version": "3.9.9"
  }
 },
 "nbformat": 4,
 "nbformat_minor": 5
}
